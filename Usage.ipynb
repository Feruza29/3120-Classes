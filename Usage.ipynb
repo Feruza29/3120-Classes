{
 "cells": [
  {
   "cell_type": "code",
   "execution_count": 1,
   "id": "6b88b4bc-a5c4-436d-9eed-8e95600f6d53",
   "metadata": {
    "editable": true,
    "slideshow": {
     "slide_type": ""
    },
    "tags": []
   },
   "outputs": [],
   "source": [
    "from Animal import Animal"
   ]
  },
  {
   "cell_type": "code",
   "execution_count": 3,
   "id": "738a52e3-faf1-4f92-8835-fed5b5e36dfe",
   "metadata": {
    "editable": true,
    "slideshow": {
     "slide_type": ""
    },
    "tags": []
   },
   "outputs": [
    {
     "name": "stdout",
     "output_type": "stream",
     "text": [
      "hello, I am Clifford\n",
      "WOOF!\n",
      "Clifford eats large amounts of dog food.\n",
      "Clifford sleeps for 12 hours.\n",
      "Clifford is playing fetch!\n",
      "Clifford is cleaning himself with water.\n",
      "Clifford makes a barking sound.\n"
     ]
    }
   ],
   "source": [
    "# Demonstrating usage with a dog:\n",
    "\n",
    "my_dog = Animal(\"Clifford\")  # Creating Clifford the big red dog. Tb\n",
    "\n",
    "#all the stuff clifford will do\n",
    "my_dog.talk()        \n",
    "my_dog.eat(\"large amounts of dog food\") \n",
    "my_dog.sleep(12)      \n",
    "my_dog.play()        \n",
    "my_dog.groom()       \n",
    "my_dog.make_sound()  "
   ]
  },
  {
   "cell_type": "code",
   "execution_count": null,
   "id": "372aad29-a3de-4fa9-9823-87671f444476",
   "metadata": {},
   "outputs": [],
   "source": []
  }
 ],
 "metadata": {
  "kernelspec": {
   "display_name": "Python [conda env:base] *",
   "language": "python",
   "name": "conda-base-py"
  },
  "language_info": {
   "codemirror_mode": {
    "name": "ipython",
    "version": 3
   },
   "file_extension": ".py",
   "mimetype": "text/x-python",
   "name": "python",
   "nbconvert_exporter": "python",
   "pygments_lexer": "ipython3",
   "version": "3.12.7"
  }
 },
 "nbformat": 4,
 "nbformat_minor": 5
}
